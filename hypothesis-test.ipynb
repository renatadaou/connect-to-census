{
 "cells": [
  {
   "cell_type": "code",
   "execution_count": 17,
   "metadata": {},
   "outputs": [
    {
     "name": "stdout",
     "output_type": "stream",
     "text": [
      "The rpy2.ipython extension is already loaded. To reload it, use:\n",
      "  %reload_ext rpy2.ipython\n",
      "The autoreload extension is already loaded. To reload it, use:\n",
      "  %reload_ext autoreload\n"
     ]
    }
   ],
   "source": [
    "%load_ext rpy2.ipython\n",
    "%load_ext autoreload\n",
    "%autoreload 2\n",
    "\n",
    "%matplotlib inline  \n",
    "from matplotlib import rcParams\n",
    "rcParams['figure.figsize'] = (16, 100)\n",
    "\n",
    "import warnings\n",
    "from rpy2.rinterface import RRuntimeWarning\n",
    "warnings.filterwarnings(\"ignore\") # Ignore all warnings\n",
    "# warnings.filterwarnings(\"ignore\", category=RRuntimeWarning) # Show some warnings\n",
    "\n",
    "import pandas as pd\n",
    "import numpy as np\n",
    "import matplotlib.pyplot as plt\n",
    "from IPython.display import display, HTML"
   ]
  },
  {
   "cell_type": "code",
   "execution_count": 18,
   "metadata": {},
   "outputs": [
    {
     "data": {
      "application/javascript": "// Disable auto-scrolling\nIPython.OutputArea.prototype._should_scroll = function(lines) {\n    return false;\n}\n",
      "text/plain": [
       "<IPython.core.display.Javascript object>"
      ]
     },
     "metadata": {},
     "output_type": "display_data"
    }
   ],
   "source": [
    "%%javascript\n",
    "// Disable auto-scrolling\n",
    "IPython.OutputArea.prototype._should_scroll = function(lines) {\n",
    "    return false;\n",
    "}"
   ]
  },
  {
   "cell_type": "code",
   "execution_count": 19,
   "metadata": {},
   "outputs": [],
   "source": [
    "%%R\n",
    "\n",
    "# My commonly used R imports\n",
    "\n",
    "require('tidyverse')"
   ]
  },
  {
   "cell_type": "code",
   "execution_count": 20,
   "metadata": {},
   "outputs": [
    {
     "name": "stdout",
     "output_type": "stream",
     "text": [
      "# A tibble: 2,542 × 139\n",
      "   `Unnamed: 0` Borough   Borough/Citywide Off…¹ District School `School Name_x`\n",
      "          <dbl> <chr>     <chr>                     <dbl> <chr>  <chr>          \n",
      " 1            0 Manhattan Manhattan                     1 01M020 P.S. 020 Anna …\n",
      " 2            1 Manhattan Manhattan                     1 01M020 P.S. 020 Anna …\n",
      " 3            2 Manhattan Manhattan                     1 01M020 P.S. 020 Anna …\n",
      " 4            3 Manhattan Manhattan                     1 01M020 P.S. 020 Anna …\n",
      " 5            4 Manhattan Manhattan                     1 01M020 P.S. 020 Anna …\n",
      " 6            5 Manhattan Manhattan                     1 01M020 P.S. 020 Anna …\n",
      " 7            6 Manhattan Manhattan                     1 01M020 P.S. 020 Anna …\n",
      " 8            7 Manhattan Manhattan                     1 01M020 P.S. 020 Anna …\n",
      " 9            8 Manhattan Manhattan                     1 01M020 P.S. 020 Anna …\n",
      "10            9 Manhattan Manhattan                     1 01M020 P.S. 020 Anna …\n",
      "# ℹ 2,532 more rows\n",
      "# ℹ abbreviated name: ¹​`Borough/Citywide Office (B/CO)`\n",
      "# ℹ 133 more variables: `School Category` <chr>, Program <chr>, Language <chr>,\n",
      "#   `Language (Translated)` <chr>, `General/Special Education` <chr>,\n",
      "#   `Special Education Model` <chr>, fiscal_year <dbl>, system_code <chr>,\n",
      "#   location_code <chr>, location_name <chr>, BEDS <dbl>,\n",
      "#   Managed_by_name <chr>, location_type_description <chr>, …\n",
      "# ℹ Use `print(n = ...)` to see more rows, and `colnames()` to see all variable names\n"
     ]
    }
   ],
   "source": [
    "%%R\n",
    " \n",
    "# Import data with R\n",
    "df <- read_csv('combinedwithcensus.csv', show_col_types = FALSE)\n",
    "df"
   ]
  },
  {
   "cell_type": "code",
   "execution_count": 21,
   "metadata": {},
   "outputs": [
    {
     "data": {
      "text/html": [
       "<div>\n",
       "<style scoped>\n",
       "    .dataframe tbody tr th:only-of-type {\n",
       "        vertical-align: middle;\n",
       "    }\n",
       "\n",
       "    .dataframe tbody tr th {\n",
       "        vertical-align: top;\n",
       "    }\n",
       "\n",
       "    .dataframe thead th {\n",
       "        text-align: right;\n",
       "    }\n",
       "</style>\n",
       "<table border=\"1\" class=\"dataframe\">\n",
       "  <thead>\n",
       "    <tr style=\"text-align: right;\">\n",
       "      <th></th>\n",
       "      <th>Unnamed: 0</th>\n",
       "      <th>Borough</th>\n",
       "      <th>Borough/Citywide Office (B/CO)</th>\n",
       "      <th>District</th>\n",
       "      <th>School</th>\n",
       "      <th>School Name_x</th>\n",
       "      <th>School Category</th>\n",
       "      <th>Program</th>\n",
       "      <th>Language</th>\n",
       "      <th>Language (Translated)</th>\n",
       "      <th>...</th>\n",
       "      <th>two_or_more_nonhispanic_estimate</th>\n",
       "      <th>hispanic_estimate</th>\n",
       "      <th>median_income_estimate</th>\n",
       "      <th>percent_white_nonhispanic_estimate</th>\n",
       "      <th>percent_black_nonhispanic_estimate</th>\n",
       "      <th>percent_native_nonhispanic_estimate</th>\n",
       "      <th>percent_asian_nonhispanic_estimate</th>\n",
       "      <th>percent_someother_nonhispanic_estimate</th>\n",
       "      <th>percent_two_or_more_nonhispanic_estimate</th>\n",
       "      <th>percent_hispanic_estimate</th>\n",
       "    </tr>\n",
       "  </thead>\n",
       "  <tbody>\n",
       "    <tr>\n",
       "      <th>0</th>\n",
       "      <td>0.0</td>\n",
       "      <td>Manhattan</td>\n",
       "      <td>Manhattan</td>\n",
       "      <td>1.0</td>\n",
       "      <td>01M020</td>\n",
       "      <td>P.S. 020 Anna Silver</td>\n",
       "      <td>Elementary</td>\n",
       "      <td>Dual Language</td>\n",
       "      <td>Chinese</td>\n",
       "      <td>中文</td>\n",
       "      <td>...</td>\n",
       "      <td>0.0</td>\n",
       "      <td>747.0</td>\n",
       "      <td>70057.0</td>\n",
       "      <td>0.546265</td>\n",
       "      <td>0.056094</td>\n",
       "      <td>0.0</td>\n",
       "      <td>0.138925</td>\n",
       "      <td>0.0</td>\n",
       "      <td>0.0</td>\n",
       "      <td>0.195806</td>\n",
       "    </tr>\n",
       "    <tr>\n",
       "      <th>1</th>\n",
       "      <td>1.0</td>\n",
       "      <td>Manhattan</td>\n",
       "      <td>Manhattan</td>\n",
       "      <td>1.0</td>\n",
       "      <td>01M020</td>\n",
       "      <td>P.S. 020 Anna Silver</td>\n",
       "      <td>Elementary</td>\n",
       "      <td>Dual Language</td>\n",
       "      <td>Chinese</td>\n",
       "      <td>中文</td>\n",
       "      <td>...</td>\n",
       "      <td>0.0</td>\n",
       "      <td>747.0</td>\n",
       "      <td>70057.0</td>\n",
       "      <td>0.546265</td>\n",
       "      <td>0.056094</td>\n",
       "      <td>0.0</td>\n",
       "      <td>0.138925</td>\n",
       "      <td>0.0</td>\n",
       "      <td>0.0</td>\n",
       "      <td>0.195806</td>\n",
       "    </tr>\n",
       "    <tr>\n",
       "      <th>2</th>\n",
       "      <td>2.0</td>\n",
       "      <td>Manhattan</td>\n",
       "      <td>Manhattan</td>\n",
       "      <td>1.0</td>\n",
       "      <td>01M020</td>\n",
       "      <td>P.S. 020 Anna Silver</td>\n",
       "      <td>Elementary</td>\n",
       "      <td>Dual Language</td>\n",
       "      <td>Chinese</td>\n",
       "      <td>中文</td>\n",
       "      <td>...</td>\n",
       "      <td>0.0</td>\n",
       "      <td>747.0</td>\n",
       "      <td>70057.0</td>\n",
       "      <td>0.546265</td>\n",
       "      <td>0.056094</td>\n",
       "      <td>0.0</td>\n",
       "      <td>0.138925</td>\n",
       "      <td>0.0</td>\n",
       "      <td>0.0</td>\n",
       "      <td>0.195806</td>\n",
       "    </tr>\n",
       "    <tr>\n",
       "      <th>3</th>\n",
       "      <td>3.0</td>\n",
       "      <td>Manhattan</td>\n",
       "      <td>Manhattan</td>\n",
       "      <td>1.0</td>\n",
       "      <td>01M020</td>\n",
       "      <td>P.S. 020 Anna Silver</td>\n",
       "      <td>Elementary</td>\n",
       "      <td>Dual Language</td>\n",
       "      <td>Chinese</td>\n",
       "      <td>中文</td>\n",
       "      <td>...</td>\n",
       "      <td>0.0</td>\n",
       "      <td>747.0</td>\n",
       "      <td>70057.0</td>\n",
       "      <td>0.546265</td>\n",
       "      <td>0.056094</td>\n",
       "      <td>0.0</td>\n",
       "      <td>0.138925</td>\n",
       "      <td>0.0</td>\n",
       "      <td>0.0</td>\n",
       "      <td>0.195806</td>\n",
       "    </tr>\n",
       "    <tr>\n",
       "      <th>4</th>\n",
       "      <td>4.0</td>\n",
       "      <td>Manhattan</td>\n",
       "      <td>Manhattan</td>\n",
       "      <td>1.0</td>\n",
       "      <td>01M020</td>\n",
       "      <td>P.S. 020 Anna Silver</td>\n",
       "      <td>Elementary</td>\n",
       "      <td>Dual Language</td>\n",
       "      <td>Chinese</td>\n",
       "      <td>中文</td>\n",
       "      <td>...</td>\n",
       "      <td>0.0</td>\n",
       "      <td>747.0</td>\n",
       "      <td>70057.0</td>\n",
       "      <td>0.546265</td>\n",
       "      <td>0.056094</td>\n",
       "      <td>0.0</td>\n",
       "      <td>0.138925</td>\n",
       "      <td>0.0</td>\n",
       "      <td>0.0</td>\n",
       "      <td>0.195806</td>\n",
       "    </tr>\n",
       "  </tbody>\n",
       "</table>\n",
       "<p>5 rows × 139 columns</p>\n",
       "</div>"
      ],
      "text/plain": [
       "   Unnamed: 0    Borough Borough/Citywide Office (B/CO)  District  School  \\\n",
       "0         0.0  Manhattan                      Manhattan       1.0  01M020   \n",
       "1         1.0  Manhattan                      Manhattan       1.0  01M020   \n",
       "2         2.0  Manhattan                      Manhattan       1.0  01M020   \n",
       "3         3.0  Manhattan                      Manhattan       1.0  01M020   \n",
       "4         4.0  Manhattan                      Manhattan       1.0  01M020   \n",
       "\n",
       "          School Name_x School Category        Program Language  \\\n",
       "0  P.S. 020 Anna Silver      Elementary  Dual Language  Chinese   \n",
       "1  P.S. 020 Anna Silver      Elementary  Dual Language  Chinese   \n",
       "2  P.S. 020 Anna Silver      Elementary  Dual Language  Chinese   \n",
       "3  P.S. 020 Anna Silver      Elementary  Dual Language  Chinese   \n",
       "4  P.S. 020 Anna Silver      Elementary  Dual Language  Chinese   \n",
       "\n",
       "  Language (Translated)  ... two_or_more_nonhispanic_estimate  \\\n",
       "0                    中文  ...                              0.0   \n",
       "1                    中文  ...                              0.0   \n",
       "2                    中文  ...                              0.0   \n",
       "3                    中文  ...                              0.0   \n",
       "4                    中文  ...                              0.0   \n",
       "\n",
       "  hispanic_estimate  median_income_estimate  \\\n",
       "0             747.0                 70057.0   \n",
       "1             747.0                 70057.0   \n",
       "2             747.0                 70057.0   \n",
       "3             747.0                 70057.0   \n",
       "4             747.0                 70057.0   \n",
       "\n",
       "  percent_white_nonhispanic_estimate percent_black_nonhispanic_estimate  \\\n",
       "0                           0.546265                           0.056094   \n",
       "1                           0.546265                           0.056094   \n",
       "2                           0.546265                           0.056094   \n",
       "3                           0.546265                           0.056094   \n",
       "4                           0.546265                           0.056094   \n",
       "\n",
       "  percent_native_nonhispanic_estimate  percent_asian_nonhispanic_estimate  \\\n",
       "0                                 0.0                            0.138925   \n",
       "1                                 0.0                            0.138925   \n",
       "2                                 0.0                            0.138925   \n",
       "3                                 0.0                            0.138925   \n",
       "4                                 0.0                            0.138925   \n",
       "\n",
       "  percent_someother_nonhispanic_estimate  \\\n",
       "0                                    0.0   \n",
       "1                                    0.0   \n",
       "2                                    0.0   \n",
       "3                                    0.0   \n",
       "4                                    0.0   \n",
       "\n",
       "  percent_two_or_more_nonhispanic_estimate percent_hispanic_estimate  \n",
       "0                                      0.0                  0.195806  \n",
       "1                                      0.0                  0.195806  \n",
       "2                                      0.0                  0.195806  \n",
       "3                                      0.0                  0.195806  \n",
       "4                                      0.0                  0.195806  \n",
       "\n",
       "[5 rows x 139 columns]"
      ]
     },
     "execution_count": 21,
     "metadata": {},
     "output_type": "execute_result"
    }
   ],
   "source": [
    "# Import data in python\n",
    "mtcars = pd.read_csv('combinedwithcensus.csv')\n",
    "mtcars.head()"
   ]
  },
  {
   "cell_type": "code",
   "execution_count": 22,
   "metadata": {},
   "outputs": [
    {
     "name": "stderr",
     "output_type": "stream",
     "text": [
      "R[write to console]: In addition: \n",
      "R[write to console]: Warning message:\n",
      "\n",
      "R[write to console]: Removed 35 rows containing missing values (`geom_point()`). \n",
      "\n"
     ]
    },
    {
     "data": {
      "image/png": "[encoded data removed]",
      "text/plain": [
       "<IPython.core.display.Image object>"
      ]
     },
     "metadata": {},
     "output_type": "display_data"
    }
   ],
   "source": [
    "%%R -w 800 -h 200\n",
    "\n",
    "library(ggplot2)\n",
    "\n",
    "ggplot(df, aes(x = median_income_estimate, y = Program, color = Program)) +\n",
    "    geom_point(alpha = 0.02, size = 3) +\n",
    "    labs(x = \"Median Income Estimate\", y = \"Number of Programs\", subtitle = \" Transitional bilingual schools are in lower-income communities\") +\n",
    "    ggtitle(\"Dual language schools are in higher-income communities\") +\n",
    "    theme_minimal()"
   ]
  },
  {
   "cell_type": "code",
   "execution_count": 23,
   "metadata": {},
   "outputs": [
    {
     "name": "stdout",
     "output_type": "stream",
     "text": [
      "\n",
      "\tWelch Two Sample t-test\n",
      "\n",
      "data:  median_income_estimate by Program\n",
      "t = 9.7996, df = 2347.8, p-value < 2.2e-16\n",
      "alternative hypothesis: true difference in means between group Dual Language and group Transitional Bilingual Education is not equal to 0\n",
      "95 percent confidence interval:\n",
      "  7595.102 11395.189\n",
      "sample estimates:\n",
      "                   mean in group Dual Language \n",
      "                                      57352.78 \n",
      "mean in group Transitional Bilingual Education \n",
      "                                      47857.64 \n",
      "\n"
     ]
    }
   ],
   "source": [
    "%%R -o df\n",
    "\n",
    " #perform the t test with Program\n",
    "t.test(median_income_estimate ~ Program, data = df)\n"
   ]
  },
  {
   "cell_type": "code",
   "execution_count": 34,
   "metadata": {},
   "outputs": [
    {
     "name": "stdout",
     "output_type": "stream",
     "text": [
      "\n",
      "\tWelch Two Sample t-test\n",
      "\n",
      "data:  group1 and group2\n",
      "t = -0.8958, df = 2517.5, p-value = 0.3704\n",
      "alternative hypothesis: true difference in means is not equal to 0\n",
      "95 percent confidence interval:\n",
      " -0.02971693  0.01107974\n",
      "sample estimates:\n",
      "mean of x mean of y \n",
      "0.4488346 0.4581532 \n",
      "\n"
     ]
    }
   ],
   "source": [
    "%%R -o df\n",
    "\n",
    "group1 <- subset(df, Program == \"Dual Language\")$percent_hispanic_estimate\n",
    "group2 <- subset(df, Program == \"Transitional Bilingual Education\")$percent_hispanic_estimate\n",
    "\n",
    "# Perform the t-test\n",
    "t_test_result <- t.test(group1, group2)\n",
    "\n",
    "# Print the results\n",
    "print(t_test_result)\n"
   ]
  },
  {
   "cell_type": "code",
   "execution_count": 35,
   "metadata": {},
   "outputs": [
    {
     "name": "stderr",
     "output_type": "stream",
     "text": [
      "R[write to console]: In addition: \n",
      "R[write to console]: Warning message:\n",
      "\n",
      "R[write to console]: Removed 15 rows containing non-finite values (`stat_boxplot()`). \n",
      "\n"
     ]
    },
    {
     "data": {
      "image/png": "[encoded data removed]",
      "text/plain": [
       "<IPython.core.display.Image object>"
      ]
     },
     "metadata": {},
     "output_type": "display_data"
    }
   ],
   "source": [
    "%%R\n",
    "\n",
    "ggplot(df, aes(x = Program, y = percent_hispanic_estimate, fill = Program)) +\n",
    "  geom_boxplot() +\n",
    "  scale_fill_manual(values = c(\"Dual Language\" = \"blue\", \"Transitional Bilingual Education\" = \"green\")) +\n",
    "  labs(title = \"Comparison of Percent Hispanic Estimate\",\n",
    "       subtitle = \"Between Dual Language and Transitional Bilingual Education Programs\",\n",
    "       x = \"Program Type\",\n",
    "       y = \"Percent Hispanic Estimate\") +\n",
    "  theme_minimal() +\n",
    "  theme(legend.title = element_blank())  # Hide the legend title if desired"
   ]
  },
  {
   "cell_type": "code",
   "execution_count": null,
   "metadata": {},
   "outputs": [],
   "source": []
  }
 ],
 "metadata": {
  "kernelspec": {
   "display_name": "Python 3",
   "language": "python",
   "name": "python3"
  },
  "language_info": {
   "codemirror_mode": {
    "name": "ipython",
    "version": 3
   },
   "file_extension": ".py",
   "mimetype": "text/x-python",
   "name": "python",
   "nbconvert_exporter": "python",
   "pygments_lexer": "ipython3",
   "version": "3.11.6"
  }
 },
 "nbformat": 4,
 "nbformat_minor": 2
}
