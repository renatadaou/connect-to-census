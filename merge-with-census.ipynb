{
 "cells": [
  {
   "cell_type": "markdown",
   "metadata": {},
   "source": [
    "# Notebook Title"
   ]
  },
  {
   "cell_type": "markdown",
   "metadata": {},
   "source": [
    "## Setup Python and R environment\n",
    "you can ignore this section"
   ]
  },
  {
   "cell_type": "code",
   "execution_count": 27,
   "metadata": {},
   "outputs": [],
   "source": [
    "%load_ext rpy2.ipython\n",
    "%load_ext autoreload\n",
    "%autoreload 2\n",
    "\n",
    "%matplotlib inline  \n",
    "from matplotlib import rcParams\n",
    "rcParams['figure.figsize'] = (16, 100)\n",
    "\n",
    "import warnings\n",
    "from rpy2.rinterface import RRuntimeWarning\n",
    "warnings.filterwarnings(\"ignore\") # Ignore all warnings\n",
    "# warnings.filterwarnings(\"ignore\", category=RRuntimeWarning) # Show some warnings\n",
    "\n",
    "import pandas as pd\n",
    "import numpy as np\n",
    "import matplotlib.pyplot as plt\n",
    "from IPython.display import display, HTML"
   ]
  },
  {
   "cell_type": "code",
   "execution_count": 28,
   "metadata": {},
   "outputs": [
    {
     "data": {
      "application/javascript": "// Disable auto-scrolling\nIPython.OutputArea.prototype._should_scroll = function(lines) {\n    return false;\n}\n",
      "text/plain": [
       "<IPython.core.display.Javascript object>"
      ]
     },
     "metadata": {},
     "output_type": "display_data"
    }
   ],
   "source": [
    "%%javascript\n",
    "// Disable auto-scrolling\n",
    "IPython.OutputArea.prototype._should_scroll = function(lines) {\n",
    "    return false;\n",
    "}"
   ]
  },
  {
   "cell_type": "code",
   "execution_count": 29,
   "metadata": {},
   "outputs": [
    {
     "name": "stdout",
     "output_type": "stream",
     "text": [
      "── Attaching core tidyverse packages ──────────────────────── tidyverse 2.0.0 ──\n",
      "✔ dplyr     1.1.4     ✔ readr     2.1.5\n",
      "✔ forcats   1.0.0     ✔ stringr   1.5.1\n",
      "✔ ggplot2   3.4.4     ✔ tibble    3.2.1\n",
      "✔ lubridate 1.9.3     ✔ tidyr     1.3.1\n",
      "✔ purrr     1.0.2     \n",
      "── Conflicts ────────────────────────────────────────── tidyverse_conflicts() ──\n",
      "✖ dplyr::filter() masks stats::filter()\n",
      "✖ dplyr::lag()    masks stats::lag()\n",
      "ℹ Use the conflicted package (<http://conflicted.r-lib.org/>) to force all conflicts to become errors\n"
     ]
    },
    {
     "data": {
      "text/plain": [
       "Loading required package: tidyverse\n"
      ]
     },
     "metadata": {},
     "output_type": "display_data"
    }
   ],
   "source": [
    "%%R\n",
    "\n",
    "# My commonly used R imports\n",
    "\n",
    "require('tidyverse')"
   ]
  },
  {
   "cell_type": "markdown",
   "metadata": {},
   "source": [
    "## Load & Clean Data\n",
    "\n",
    "👉 Load the data along with the census connectors below (the output of the `connect-to-census.ipynb` notebook) and do any cleanup you'd like to do."
   ]
  },
  {
   "cell_type": "code",
   "execution_count": 30,
   "metadata": {},
   "outputs": [],
   "source": [
    "import pandas as pd"
   ]
  },
  {
   "cell_type": "code",
   "execution_count": 31,
   "metadata": {},
   "outputs": [
    {
     "data": {
      "text/plain": [
       "['Unnamed: 0',\n",
       " 'Borough',\n",
       " 'Borough/Citywide Office (B/CO)',\n",
       " 'District',\n",
       " 'School',\n",
       " 'School Name_x',\n",
       " 'School Category',\n",
       " 'Program',\n",
       " 'Language',\n",
       " 'Language (Translated)',\n",
       " 'General/Special Education',\n",
       " 'Special Education Model',\n",
       " 'fiscal_year',\n",
       " 'system_code',\n",
       " 'location_code',\n",
       " 'location_name',\n",
       " 'BEDS',\n",
       " 'Managed_by_name',\n",
       " 'location_type_description',\n",
       " 'Location_Category_Description',\n",
       " 'Grades_text',\n",
       " 'Grades_final_text',\n",
       " 'open_date',\n",
       " 'Status_descriptions',\n",
       " 'Primary_building_code',\n",
       " 'primary_address_line_1',\n",
       " 'State_code',\n",
       " 'X_COORDINATE',\n",
       " 'Y_COORDINATE',\n",
       " 'LONGITUDE',\n",
       " 'LATITUDE',\n",
       " 'Community_district',\n",
       " 'Council-district',\n",
       " 'Census_tract',\n",
       " 'Borough_block_lot',\n",
       " 'NTA',\n",
       " 'NTA_Name',\n",
       " 'Principal_Name',\n",
       " 'Principal_title',\n",
       " 'Principal_phone_number',\n",
       " 'fax_number',\n",
       " 'Geographical_District_code',\n",
       " 'Administrative_District_Code',\n",
       " 'Administrative_District_Name',\n",
       " 'community_school_sup_name',\n",
       " 'Tier_3_Support_Location_Name',\n",
       " 'Tier_3_Support_Leader_Name',\n",
       " 'Tier_2_Support_Location_Name',\n",
       " 'HighSchool_Network_Location_Code',\n",
       " 'HighSchool_Network_Name',\n",
       " 'HighSchool_Network_Superintendent',\n",
       " 'Community_district 1',\n",
       " 'Police_precinct',\n",
       " 'DBN',\n",
       " 'School Name_y',\n",
       " 'Year',\n",
       " 'Total Enrollment',\n",
       " 'Grade 3K+PK (Half Day & Full Day)',\n",
       " 'Grade K',\n",
       " 'Grade 1',\n",
       " 'Grade 2',\n",
       " 'Grade 3',\n",
       " 'Grade 4',\n",
       " 'Grade 5',\n",
       " 'Grade 6',\n",
       " 'Grade 7',\n",
       " 'Grade 8',\n",
       " 'Grade 9',\n",
       " 'Grade 10',\n",
       " 'Grade 11',\n",
       " 'Grade 12',\n",
       " '# Female',\n",
       " '% Female',\n",
       " '# Male',\n",
       " '% Male',\n",
       " '# Asian',\n",
       " '% Asian',\n",
       " '# Black',\n",
       " '% Black',\n",
       " '# Hispanic',\n",
       " '% Hispanic',\n",
       " '# Multi-Racial',\n",
       " '% Multi-Racial',\n",
       " '# Native American',\n",
       " '% Native American',\n",
       " '# White',\n",
       " '% White',\n",
       " '# Missing Race/Ethnicity Data',\n",
       " '% Missing Race/Ethnicity Data',\n",
       " '# Students with Disabilities',\n",
       " '% Students with Disabilities',\n",
       " '# English Language Learners',\n",
       " '% English Language Learners',\n",
       " '# Poverty',\n",
       " '% Poverty',\n",
       " 'Economic Need Index',\n",
       " 'SUFFIX',\n",
       " 'POP100',\n",
       " 'GEOID',\n",
       " 'CENTLAT',\n",
       " 'BLOCK',\n",
       " 'AREAWATER',\n",
       " 'STATE',\n",
       " 'BASENAME',\n",
       " 'OID',\n",
       " 'LSADC',\n",
       " 'INTPTLAT',\n",
       " 'FUNCSTAT',\n",
       " 'NAME',\n",
       " 'OBJECTID',\n",
       " 'TRACT',\n",
       " 'CENTLON',\n",
       " 'BLKGRP',\n",
       " 'AREALAND',\n",
       " 'HU100',\n",
       " 'INTPTLON',\n",
       " 'MTFCC',\n",
       " 'LWBLKTYP',\n",
       " 'UR',\n",
       " 'COUNTY',\n",
       " 'mergeid']"
      ]
     },
     "execution_count": 31,
     "metadata": {},
     "output_type": "execute_result"
    }
   ],
   "source": [
    "df_merge2.columns.to_list()"
   ]
  },
  {
   "cell_type": "code",
   "execution_count": 32,
   "metadata": {},
   "outputs": [
    {
     "data": {
      "text/html": [
       "<div>\n",
       "<style scoped>\n",
       "    .dataframe tbody tr th:only-of-type {\n",
       "        vertical-align: middle;\n",
       "    }\n",
       "\n",
       "    .dataframe tbody tr th {\n",
       "        vertical-align: top;\n",
       "    }\n",
       "\n",
       "    .dataframe thead th {\n",
       "        text-align: right;\n",
       "    }\n",
       "</style>\n",
       "<table border=\"1\" class=\"dataframe\">\n",
       "  <thead>\n",
       "    <tr style=\"text-align: right;\">\n",
       "      <th></th>\n",
       "      <th>STATE</th>\n",
       "      <th>COUNTY</th>\n",
       "      <th>TRACT</th>\n",
       "      <th>GEOID</th>\n",
       "    </tr>\n",
       "  </thead>\n",
       "  <tbody>\n",
       "    <tr>\n",
       "      <th>0</th>\n",
       "      <td>36</td>\n",
       "      <td>061</td>\n",
       "      <td>003001</td>\n",
       "      <td>360610030013002</td>\n",
       "    </tr>\n",
       "    <tr>\n",
       "      <th>1</th>\n",
       "      <td>36</td>\n",
       "      <td>061</td>\n",
       "      <td>003001</td>\n",
       "      <td>360610030013002</td>\n",
       "    </tr>\n",
       "    <tr>\n",
       "      <th>2</th>\n",
       "      <td>36</td>\n",
       "      <td>061</td>\n",
       "      <td>003001</td>\n",
       "      <td>360610030013002</td>\n",
       "    </tr>\n",
       "    <tr>\n",
       "      <th>3</th>\n",
       "      <td>36</td>\n",
       "      <td>061</td>\n",
       "      <td>003001</td>\n",
       "      <td>360610030013002</td>\n",
       "    </tr>\n",
       "    <tr>\n",
       "      <th>4</th>\n",
       "      <td>36</td>\n",
       "      <td>061</td>\n",
       "      <td>003001</td>\n",
       "      <td>360610030013002</td>\n",
       "    </tr>\n",
       "    <tr>\n",
       "      <th>...</th>\n",
       "      <td>...</td>\n",
       "      <td>...</td>\n",
       "      <td>...</td>\n",
       "      <td>...</td>\n",
       "    </tr>\n",
       "    <tr>\n",
       "      <th>2746</th>\n",
       "      <td>36</td>\n",
       "      <td>005</td>\n",
       "      <td>012300</td>\n",
       "      <td>360050123003000</td>\n",
       "    </tr>\n",
       "    <tr>\n",
       "      <th>2747</th>\n",
       "      <td>36</td>\n",
       "      <td>005</td>\n",
       "      <td>012300</td>\n",
       "      <td>360050123003000</td>\n",
       "    </tr>\n",
       "    <tr>\n",
       "      <th>2748</th>\n",
       "      <td>36</td>\n",
       "      <td>005</td>\n",
       "      <td>012300</td>\n",
       "      <td>360050123003000</td>\n",
       "    </tr>\n",
       "    <tr>\n",
       "      <th>2749</th>\n",
       "      <td>36</td>\n",
       "      <td>005</td>\n",
       "      <td>012300</td>\n",
       "      <td>360050123003000</td>\n",
       "    </tr>\n",
       "    <tr>\n",
       "      <th>2750</th>\n",
       "      <td>36</td>\n",
       "      <td>005</td>\n",
       "      <td>012300</td>\n",
       "      <td>360050123003000</td>\n",
       "    </tr>\n",
       "  </tbody>\n",
       "</table>\n",
       "<p>2751 rows × 4 columns</p>\n",
       "</div>"
      ],
      "text/plain": [
       "      STATE COUNTY   TRACT            GEOID\n",
       "0        36    061  003001  360610030013002\n",
       "1        36    061  003001  360610030013002\n",
       "2        36    061  003001  360610030013002\n",
       "3        36    061  003001  360610030013002\n",
       "4        36    061  003001  360610030013002\n",
       "...     ...    ...     ...              ...\n",
       "2746     36    005  012300  360050123003000\n",
       "2747     36    005  012300  360050123003000\n",
       "2748     36    005  012300  360050123003000\n",
       "2749     36    005  012300  360050123003000\n",
       "2750     36    005  012300  360050123003000\n",
       "\n",
       "[2751 rows x 4 columns]"
      ]
     },
     "execution_count": 32,
     "metadata": {},
     "output_type": "execute_result"
    }
   ],
   "source": [
    "df_merge2 = pd.read_csv('schoolData.csv', dtype={'TRACT': str, 'COUNTY': str})\n",
    "df_merge2[['STATE', 'COUNTY', 'TRACT', 'GEOID']]"
   ]
  },
  {
   "cell_type": "code",
   "execution_count": 33,
   "metadata": {},
   "outputs": [
    {
     "data": {
      "text/plain": [
       "0       003001061003001\n",
       "1       003001061003001\n",
       "2       003001061003001\n",
       "3       003001061003001\n",
       "4       003001061003001\n",
       "             ...       \n",
       "2746    012300005012300\n",
       "2747    012300005012300\n",
       "2748    012300005012300\n",
       "2749    012300005012300\n",
       "2750    012300005012300\n",
       "Name: mergeid, Length: 2751, dtype: object"
      ]
     },
     "execution_count": 33,
     "metadata": {},
     "output_type": "execute_result"
    }
   ],
   "source": [
    "df_merge2['mergeid']= df_merge2['TRACT'] + df_merge2['COUNTY'] + df_merge2['TRACT'] \n",
    "df_merge2['mergeid']"
   ]
  },
  {
   "cell_type": "markdown",
   "metadata": {},
   "source": [
    "## 👉 Grab Census Data"
   ]
  },
  {
   "cell_type": "markdown",
   "metadata": {},
   "source": [
    "1. loading the Census API key"
   ]
  },
  {
   "cell_type": "code",
   "execution_count": 34,
   "metadata": {},
   "outputs": [
    {
     "data": {
      "text/plain": [
       "True"
      ]
     },
     "execution_count": 34,
     "metadata": {},
     "output_type": "execute_result"
    }
   ],
   "source": [
    "import dotenv\n",
    "\n",
    "# Load the environment variables\n",
    "# (loads CENSUS_API_KEY from .env)\n",
    "dotenv.load_dotenv()\n"
   ]
  },
  {
   "cell_type": "code",
   "execution_count": 35,
   "metadata": {},
   "outputs": [],
   "source": [
    "!touch .env"
   ]
  },
  {
   "cell_type": "code",
   "execution_count": 36,
   "metadata": {},
   "outputs": [
    {
     "data": {
      "text/plain": [
       "Loading required package: tidycensus\n",
       "To install your API key for use in future sessions, run this function with `install = TRUE`.\n"
      ]
     },
     "metadata": {},
     "output_type": "display_data"
    }
   ],
   "source": [
    "%%R \n",
    "\n",
    "require('tidycensus')\n",
    "\n",
    "# because it an environment variable, we don't have to \n",
    "# explicitly pass this string to R, it is readable here\n",
    "# in this R cell.\n",
    "census_api_key(Sys.getenv(\"2b439405843d7c5b73d408bf38e100d4bb36ea87\"))"
   ]
  },
  {
   "cell_type": "markdown",
   "metadata": {},
   "source": [
    "2. Decide which Census variables you want\n",
    "\n",
    "    Use <https://censusreporter.org/> to figure out which tables you want. (if censusreporter is down, check out the code in the cell below)\n",
    "\n",
    "    -   Scroll to the bottom of the page to see the tables.\n",
    "    -   If you already know the table ID, stick that in the \"Explore\" section to learn more about that table.\n",
    "\n",
    "    By default this code loads (B01003_001) which we found in censusreporter here: https://censusreporter.org/tables/B01003/\n",
    "\n",
    "    - find some other variables that you're also interested in\n",
    "    - don't forget to pick a geography like \"tract\", \"county\" or \"block group\". here is the list of [all geographies](https://walker-data.com/tidycensus/articles/basic-usage.html#geography-in-tidycensus\n",
    "    ).\n"
   ]
  },
  {
   "cell_type": "code",
   "execution_count": 37,
   "metadata": {},
   "outputs": [
    {
     "name": "stdout",
     "output_type": "stream",
     "text": [
      "# A tibble: 21 × 4\n",
      "   name       label                                            concept geography\n",
      "   <chr>      <chr>                                            <chr>   <chr>    \n",
      " 1 B03002_001 Estimate!!Total:                                 HISPAN… block gr…\n",
      " 2 B03002_002 Estimate!!Total:!!Not Hispanic or Latino:        HISPAN… block gr…\n",
      " 3 B03002_003 Estimate!!Total:!!Not Hispanic or Latino:!!Whit… HISPAN… block gr…\n",
      " 4 B03002_004 Estimate!!Total:!!Not Hispanic or Latino:!!Blac… HISPAN… block gr…\n",
      " 5 B03002_005 Estimate!!Total:!!Not Hispanic or Latino:!!Amer… HISPAN… block gr…\n",
      " 6 B03002_006 Estimate!!Total:!!Not Hispanic or Latino:!!Asia… HISPAN… block gr…\n",
      " 7 B03002_007 Estimate!!Total:!!Not Hispanic or Latino:!!Nati… HISPAN… block gr…\n",
      " 8 B03002_008 Estimate!!Total:!!Not Hispanic or Latino:!!Some… HISPAN… block gr…\n",
      " 9 B03002_009 Estimate!!Total:!!Not Hispanic or Latino:!!Two … HISPAN… block gr…\n",
      "10 B03002_010 Estimate!!Total:!!Not Hispanic or Latino:!!Two … HISPAN… block gr…\n",
      "11 B03002_011 Estimate!!Total:!!Not Hispanic or Latino:!!Two … HISPAN… block gr…\n",
      "12 B03002_012 Estimate!!Total:!!Hispanic or Latino:            HISPAN… block gr…\n",
      "13 B03002_013 Estimate!!Total:!!Hispanic or Latino:!!White al… HISPAN… block gr…\n",
      "14 B03002_014 Estimate!!Total:!!Hispanic or Latino:!!Black or… HISPAN… block gr…\n",
      "15 B03002_015 Estimate!!Total:!!Hispanic or Latino:!!American… HISPAN… block gr…\n",
      "16 B03002_016 Estimate!!Total:!!Hispanic or Latino:!!Asian al… HISPAN… block gr…\n",
      "17 B03002_017 Estimate!!Total:!!Hispanic or Latino:!!Native H… HISPAN… block gr…\n",
      "18 B03002_018 Estimate!!Total:!!Hispanic or Latino:!!Some oth… HISPAN… block gr…\n",
      "19 B03002_019 Estimate!!Total:!!Hispanic or Latino:!!Two or m… HISPAN… block gr…\n",
      "20 B03002_020 Estimate!!Total:!!Hispanic or Latino:!!Two or m… HISPAN… block gr…\n",
      "21 B03002_021 Estimate!!Total:!!Hispanic or Latino:!!Two or m… HISPAN… block gr…\n"
     ]
    }
   ],
   "source": [
    "%%R \n",
    "B03002_vars <- load_variables(2021, \"acs5\", cache = TRUE) %>%\n",
    "    # Check if name contains B03002\n",
    "    filter(str_detect(name, \"B03002\"))\n",
    "\n",
    "# Print all rows of the filtered data\n",
    "print(B03002_vars, n = Inf)"
   ]
  },
  {
   "cell_type": "code",
   "execution_count": 38,
   "metadata": {},
   "outputs": [
    {
     "name": "stdout",
     "output_type": "stream",
     "text": [
      "# A tibble: 27,886 × 4\n",
      "   name        label                                    concept        geography\n",
      "   <chr>       <chr>                                    <chr>          <chr>    \n",
      " 1 B01001A_001 Estimate!!Total:                         SEX BY AGE (W… tract    \n",
      " 2 B01001A_002 Estimate!!Total:!!Male:                  SEX BY AGE (W… tract    \n",
      " 3 B01001A_003 Estimate!!Total:!!Male:!!Under 5 years   SEX BY AGE (W… tract    \n",
      " 4 B01001A_004 Estimate!!Total:!!Male:!!5 to 9 years    SEX BY AGE (W… tract    \n",
      " 5 B01001A_005 Estimate!!Total:!!Male:!!10 to 14 years  SEX BY AGE (W… tract    \n",
      " 6 B01001A_006 Estimate!!Total:!!Male:!!15 to 17 years  SEX BY AGE (W… tract    \n",
      " 7 B01001A_007 Estimate!!Total:!!Male:!!18 and 19 years SEX BY AGE (W… tract    \n",
      " 8 B01001A_008 Estimate!!Total:!!Male:!!20 to 24 years  SEX BY AGE (W… tract    \n",
      " 9 B01001A_009 Estimate!!Total:!!Male:!!25 to 29 years  SEX BY AGE (W… tract    \n",
      "10 B01001A_010 Estimate!!Total:!!Male:!!30 to 34 years  SEX BY AGE (W… tract    \n",
      "# ℹ 27,876 more rows\n",
      "# ℹ Use `print(n = ...)` to see more rows\n"
     ]
    }
   ],
   "source": [
    "%%R \n",
    "\n",
    "B03002_vars <- load_variables(2021, \"acs5\", cache = TRUE)\n",
    "\n",
    "# Print all columns of B03002_vars\n",
    "B03002_vars\n"
   ]
  },
  {
   "cell_type": "code",
   "execution_count": 39,
   "metadata": {},
   "outputs": [
    {
     "name": "stdout",
     "output_type": "stream",
     "text": [
      "# A tibble: 83,658 × 4\n",
      "   name        census_tract race      estimate                              \n",
      "   <chr>       <chr>        <chr>     <chr>                                 \n",
      " 1 B01001A_001 01001        label     Estimate!!Total:                      \n",
      " 2 B01001A_001 01001        concept   SEX BY AGE (WHITE ALONE)              \n",
      " 3 B01001A_001 01001        geography tract                                 \n",
      " 4 B01001A_002 01001        label     Estimate!!Total:!!Male:               \n",
      " 5 B01001A_002 01001        concept   SEX BY AGE (WHITE ALONE)              \n",
      " 6 B01001A_002 01001        geography tract                                 \n",
      " 7 B01001A_003 01001        label     Estimate!!Total:!!Male:!!Under 5 years\n",
      " 8 B01001A_003 01001        concept   SEX BY AGE (WHITE ALONE)              \n",
      " 9 B01001A_003 01001        geography tract                                 \n",
      "10 B01001A_004 01001        label     Estimate!!Total:!!Male:!!5 to 9 years \n",
      "# ℹ 83,648 more rows\n",
      "# ℹ Use `print(n = ...)` to see more rows\n"
     ]
    }
   ],
   "source": [
    "%%R\n",
    "\n",
    "library(dplyr)\n",
    "library(tidyr)\n",
    "\n",
    "# Reshape the data\n",
    "reshaped_data <- B03002_vars %>%\n",
    "  mutate(census_tract = stringr::str_extract(name, \"\\\\d+\")) %>%\n",
    "  pivot_longer(cols = -c(name, census_tract), names_to = \"race\", values_to = \"estimate\")\n",
    "\n",
    "# Print the reshaped data\n",
    "print(reshaped_data)"
   ]
  },
  {
   "cell_type": "code",
   "execution_count": 48,
   "metadata": {},
   "outputs": [
    {
     "name": "stdout",
     "output_type": "stream",
     "text": [
      "# A tibble: 18,616 × 5\n",
      "   GEOID       NAME                                   variable    estimate   moe\n",
      "   <chr>       <chr>                                  <chr>          <dbl> <dbl>\n",
      " 1 36005000100 Census Tract 1, Bronx County, New York total           6661   702\n",
      " 2 36005000100 Census Tract 1, Bronx County, New York white_nonh…     1066   307\n",
      " 3 36005000100 Census Tract 1, Bronx County, New York black_nonh…     3157   470\n",
      " 4 36005000100 Census Tract 1, Bronx County, New York native_non…       39    33\n",
      " 5 36005000100 Census Tract 1, Bronx County, New York asian_nonh…      177    76\n",
      " 6 36005000100 Census Tract 1, Bronx County, New York someother_…        0    18\n",
      " 7 36005000100 Census Tract 1, Bronx County, New York two_or_mor…       18    21\n",
      " 8 36005000100 Census Tract 1, Bronx County, New York hispanic        2166   258\n",
      " 9 36005000200 Census Tract 2, Bronx County, New York total           4453   563\n",
      "10 36005000200 Census Tract 2, Bronx County, New York white_nonh…       93    98\n",
      "# ℹ 18,606 more rows\n",
      "# ℹ Use `print(n = ...)` to see more rows\n"
     ]
    },
    {
     "data": {
      "text/plain": [
       "Getting data from the 2017-2021 5-year ACS\n",
       "Using FIPS code '36' for state 'NY'\n",
       "Using FIPS code '061' for 'New York County'\n",
       "Using FIPS code '047' for 'Kings County'\n",
       "Using FIPS code '081' for 'Queens County'\n",
       "Using FIPS code '005' for 'Bronx County'\n",
       "Using FIPS code '085' for 'Richmond County'\n"
      ]
     },
     "metadata": {},
     "output_type": "display_data"
    }
   ],
   "source": [
    "%%R -o nyc_census_data\n",
    "\n",
    "nyc_census_data <- get_acs(geography = \"tract\", \n",
    "                           state = 'NY',\n",
    "                           county = c(\"New York\", \"Kings\", \"Queens\", \"Bronx\", \"Richmond\"),\n",
    "                           variables = c(\n",
    "                             total = \"B03002_001\",\n",
    "                             hispanic = \"B03002_012\",\n",
    "                             white_nonhispanic = \"B03002_003\",\n",
    "                             black_nonhispanic = \"B03002_004\",\n",
    "                             asian_nonhispanic = \"B03002_006\",\n",
    "                             native_nonhispanic = \"B03002_005\",\n",
    "                             someother_nonhispanic = \"B03002_007\",\n",
    "                             two_or_more_nonhispanic = \"B03002_008\"\n",
    "                             \n",
    "                           ), \n",
    "                           year = 2021,\n",
    "                           survey = \"acs5\",\n",
    "                           geometry = FALSE)\n",
    "\n",
    "# Display the obtained NYC census data\n",
    "nyc_census_data"
   ]
  },
  {
   "cell_type": "code",
   "execution_count": 49,
   "metadata": {},
   "outputs": [],
   "source": [
    "df = nyc_census_data"
   ]
  },
  {
   "cell_type": "code",
   "execution_count": 50,
   "metadata": {},
   "outputs": [
    {
     "data": {
      "text/html": [
       "<div>\n",
       "<style scoped>\n",
       "    .dataframe tbody tr th:only-of-type {\n",
       "        vertical-align: middle;\n",
       "    }\n",
       "\n",
       "    .dataframe tbody tr th {\n",
       "        vertical-align: top;\n",
       "    }\n",
       "\n",
       "    .dataframe thead th {\n",
       "        text-align: right;\n",
       "    }\n",
       "</style>\n",
       "<table border=\"1\" class=\"dataframe\">\n",
       "  <thead>\n",
       "    <tr style=\"text-align: right;\">\n",
       "      <th></th>\n",
       "      <th>GEOID</th>\n",
       "      <th>NAME</th>\n",
       "      <th>variable</th>\n",
       "      <th>estimate</th>\n",
       "    </tr>\n",
       "  </thead>\n",
       "  <tbody>\n",
       "    <tr>\n",
       "      <th>1</th>\n",
       "      <td>36005000100</td>\n",
       "      <td>Census Tract 1, Bronx County, New York</td>\n",
       "      <td>total</td>\n",
       "      <td>6661.0</td>\n",
       "    </tr>\n",
       "    <tr>\n",
       "      <th>2</th>\n",
       "      <td>36005000100</td>\n",
       "      <td>Census Tract 1, Bronx County, New York</td>\n",
       "      <td>white_nonhispanic</td>\n",
       "      <td>1066.0</td>\n",
       "    </tr>\n",
       "    <tr>\n",
       "      <th>3</th>\n",
       "      <td>36005000100</td>\n",
       "      <td>Census Tract 1, Bronx County, New York</td>\n",
       "      <td>black_nonhispanic</td>\n",
       "      <td>3157.0</td>\n",
       "    </tr>\n",
       "    <tr>\n",
       "      <th>4</th>\n",
       "      <td>36005000100</td>\n",
       "      <td>Census Tract 1, Bronx County, New York</td>\n",
       "      <td>native_nonhispanic</td>\n",
       "      <td>39.0</td>\n",
       "    </tr>\n",
       "    <tr>\n",
       "      <th>5</th>\n",
       "      <td>36005000100</td>\n",
       "      <td>Census Tract 1, Bronx County, New York</td>\n",
       "      <td>asian_nonhispanic</td>\n",
       "      <td>177.0</td>\n",
       "    </tr>\n",
       "    <tr>\n",
       "      <th>...</th>\n",
       "      <td>...</td>\n",
       "      <td>...</td>\n",
       "      <td>...</td>\n",
       "      <td>...</td>\n",
       "    </tr>\n",
       "    <tr>\n",
       "      <th>18612</th>\n",
       "      <td>36085990100</td>\n",
       "      <td>Census Tract 9901, Richmond County, New York</td>\n",
       "      <td>native_nonhispanic</td>\n",
       "      <td>0.0</td>\n",
       "    </tr>\n",
       "    <tr>\n",
       "      <th>18613</th>\n",
       "      <td>36085990100</td>\n",
       "      <td>Census Tract 9901, Richmond County, New York</td>\n",
       "      <td>asian_nonhispanic</td>\n",
       "      <td>0.0</td>\n",
       "    </tr>\n",
       "    <tr>\n",
       "      <th>18614</th>\n",
       "      <td>36085990100</td>\n",
       "      <td>Census Tract 9901, Richmond County, New York</td>\n",
       "      <td>someother_nonhispanic</td>\n",
       "      <td>0.0</td>\n",
       "    </tr>\n",
       "    <tr>\n",
       "      <th>18615</th>\n",
       "      <td>36085990100</td>\n",
       "      <td>Census Tract 9901, Richmond County, New York</td>\n",
       "      <td>two_or_more_nonhispanic</td>\n",
       "      <td>0.0</td>\n",
       "    </tr>\n",
       "    <tr>\n",
       "      <th>18616</th>\n",
       "      <td>36085990100</td>\n",
       "      <td>Census Tract 9901, Richmond County, New York</td>\n",
       "      <td>hispanic</td>\n",
       "      <td>0.0</td>\n",
       "    </tr>\n",
       "  </tbody>\n",
       "</table>\n",
       "<p>18616 rows × 4 columns</p>\n",
       "</div>"
      ],
      "text/plain": [
       "             GEOID                                          NAME  \\\n",
       "1      36005000100        Census Tract 1, Bronx County, New York   \n",
       "2      36005000100        Census Tract 1, Bronx County, New York   \n",
       "3      36005000100        Census Tract 1, Bronx County, New York   \n",
       "4      36005000100        Census Tract 1, Bronx County, New York   \n",
       "5      36005000100        Census Tract 1, Bronx County, New York   \n",
       "...            ...                                           ...   \n",
       "18612  36085990100  Census Tract 9901, Richmond County, New York   \n",
       "18613  36085990100  Census Tract 9901, Richmond County, New York   \n",
       "18614  36085990100  Census Tract 9901, Richmond County, New York   \n",
       "18615  36085990100  Census Tract 9901, Richmond County, New York   \n",
       "18616  36085990100  Census Tract 9901, Richmond County, New York   \n",
       "\n",
       "                      variable  estimate  \n",
       "1                        total    6661.0  \n",
       "2            white_nonhispanic    1066.0  \n",
       "3            black_nonhispanic    3157.0  \n",
       "4           native_nonhispanic      39.0  \n",
       "5            asian_nonhispanic     177.0  \n",
       "...                        ...       ...  \n",
       "18612       native_nonhispanic       0.0  \n",
       "18613        asian_nonhispanic       0.0  \n",
       "18614    someother_nonhispanic       0.0  \n",
       "18615  two_or_more_nonhispanic       0.0  \n",
       "18616                 hispanic       0.0  \n",
       "\n",
       "[18616 rows x 4 columns]"
      ]
     },
     "execution_count": 50,
     "metadata": {},
     "output_type": "execute_result"
    }
   ],
   "source": [
    "df.drop(columns=['moe'], inplace=True)\n",
    "df"
   ]
  },
  {
   "cell_type": "code",
   "execution_count": 51,
   "metadata": {},
   "outputs": [
    {
     "name": "stdout",
     "output_type": "stream",
     "text": [
      "# A tibble: 2,327 × 18\n",
      "   GEOID      NAME  total_estimate white_nonhispanic_es…¹ black_nonhispanic_es…²\n",
      "   <chr>      <chr>          <dbl>                  <dbl>                  <dbl>\n",
      " 1 360050001… Cens…           6661                   1066                   3157\n",
      " 2 360050002… Cens…           4453                     93                    934\n",
      " 3 360050004… Cens…           6000                    372                   1088\n",
      " 4 360050016… Cens…           6038                    243                   2063\n",
      " 5 360050019… Cens…           2168                    328                    631\n",
      " 6 360050019… Cens…           1399                    246                    387\n",
      " 7 360050019… Cens…              0                      0                      0\n",
      " 8 360050019… Cens…              0                      0                      0\n",
      " 9 360050020… Cens…           4694                      0                   2055\n",
      "10 360050020… Cens…           4274                      0                    780\n",
      "# ℹ 2,317 more rows\n",
      "# ℹ abbreviated names: ¹​white_nonhispanic_estimate, ²​black_nonhispanic_estimate\n",
      "# ℹ 13 more variables: native_nonhispanic_estimate <dbl>,\n",
      "#   asian_nonhispanic_estimate <dbl>, someother_nonhispanic_estimate <dbl>,\n",
      "#   two_or_more_nonhispanic_estimate <dbl>, hispanic_estimate <dbl>,\n",
      "#   total_moe <dbl>, white_nonhispanic_moe <dbl>, black_nonhispanic_moe <dbl>,\n",
      "#   native_nonhispanic_moe <dbl>, asian_nonhispanic_moe <dbl>, …\n",
      "# ℹ Use `print(n = ...)` to see more rows\n"
     ]
    }
   ],
   "source": [
    "%%R \n",
    "\n",
    "nyc_census_data <- nyc_census_data %>% \n",
    "pivot_wider(\n",
    "    names_from=variable, \n",
    "    values_from = c(estimate, moe),\n",
    "    names_glue = \"{variable}_{.value}\"\n",
    "  )\n",
    "\n",
    "nyc_census_data"
   ]
  },
  {
   "cell_type": "markdown",
   "metadata": {},
   "source": [
    "## 👉 Merge it with your data\n",
    "\n",
    "hint...`tidycensus` provides you data in long format you may need to pivot the census data from long to wide format before merging it with your data"
   ]
  },
  {
   "cell_type": "code",
   "execution_count": null,
   "metadata": {},
   "outputs": [],
   "source": []
  },
  {
   "cell_type": "code",
   "execution_count": null,
   "metadata": {},
   "outputs": [],
   "source": []
  },
  {
   "cell_type": "code",
   "execution_count": null,
   "metadata": {},
   "outputs": [],
   "source": []
  }
 ],
 "metadata": {
  "kernelspec": {
   "display_name": "Python 3 (ipykernel)",
   "language": "python",
   "name": "python3"
  },
  "language_info": {
   "codemirror_mode": {
    "name": "ipython",
    "version": 3
   },
   "file_extension": ".py",
   "mimetype": "text/x-python",
   "name": "python",
   "nbconvert_exporter": "python",
   "pygments_lexer": "ipython3",
   "version": "3.11.6"
  }
 },
 "nbformat": 4,
 "nbformat_minor": 4
}
