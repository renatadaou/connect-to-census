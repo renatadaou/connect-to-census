{
 "cells": [
  {
   "attachments": {},
   "cell_type": "markdown",
   "metadata": {},
   "source": [
    "# 2-D Exploratory Data Analysis\n",
    "\n",
    "In this notebook we will pick ONE variable you're interested in understanding from your non-census data and plot it against various census variables in scatterplots or dotplots."
   ]
  },
  {
   "attachments": {},
   "cell_type": "markdown",
   "metadata": {},
   "source": [
    "### Standard Python and R imports"
   ]
  },
  {
   "cell_type": "code",
   "execution_count": 1,
   "metadata": {},
   "outputs": [],
   "source": [
    "%load_ext rpy2.ipython\n",
    "%load_ext autoreload\n",
    "%autoreload 2\n",
    "\n",
    "%matplotlib inline  \n",
    "from matplotlib import rcParams\n",
    "rcParams['figure.figsize'] = (16, 100)\n",
    "\n",
    "import warnings\n",
    "from rpy2.rinterface import RRuntimeWarning\n",
    "warnings.filterwarnings(\"ignore\") # Ignore all warnings\n",
    "# warnings.filterwarnings(\"ignore\", category=RRuntimeWarning) # Show some warnings\n",
    "\n",
    "import pandas as pd\n",
    "import numpy as np\n",
    "import matplotlib.pyplot as plt\n",
    "from IPython.display import display, HTML"
   ]
  },
  {
   "cell_type": "code",
   "execution_count": 2,
   "metadata": {},
   "outputs": [
    {
     "data": {
      "application/javascript": "// Disable auto-scrolling\nIPython.OutputArea.prototype._should_scroll = function(lines) {\n    return false;\n}\n",
      "text/plain": [
       "<IPython.core.display.Javascript object>"
      ]
     },
     "metadata": {},
     "output_type": "display_data"
    }
   ],
   "source": [
    "%%javascript\n",
    "// Disable auto-scrolling\n",
    "IPython.OutputArea.prototype._should_scroll = function(lines) {\n",
    "    return false;\n",
    "}"
   ]
  },
  {
   "cell_type": "code",
   "execution_count": 3,
   "metadata": {},
   "outputs": [
    {
     "name": "stdout",
     "output_type": "stream",
     "text": [
      "── Attaching core tidyverse packages ──────────────────────── tidyverse 2.0.0 ──\n",
      "✔ dplyr     1.1.4     ✔ readr     2.1.5\n",
      "✔ forcats   1.0.0     ✔ stringr   1.5.1\n",
      "✔ ggplot2   3.4.4     ✔ tibble    3.2.1\n",
      "✔ lubridate 1.9.3     ✔ tidyr     1.3.1\n",
      "✔ purrr     1.0.2     \n",
      "── Conflicts ────────────────────────────────────────── tidyverse_conflicts() ──\n",
      "✖ dplyr::filter() masks stats::filter()\n",
      "✖ dplyr::lag()    masks stats::lag()\n",
      "ℹ Use the conflicted package (<http://conflicted.r-lib.org/>) to force all conflicts to become errors\n"
     ]
    },
    {
     "data": {
      "text/plain": [
       "Loading required package: tidyverse\n"
      ]
     },
     "metadata": {},
     "output_type": "display_data"
    }
   ],
   "source": [
    "%%R\n",
    "\n",
    "# My commonly used R imports\n",
    "\n",
    "require('tidyverse')"
   ]
  },
  {
   "attachments": {},
   "cell_type": "markdown",
   "metadata": {},
   "source": [
    "## Load the data"
   ]
  },
  {
   "cell_type": "code",
   "execution_count": 4,
   "metadata": {},
   "outputs": [
    {
     "name": "stdout",
     "output_type": "stream",
     "text": [
      "# A tibble: 2,542 × 132\n",
      "   `Unnamed: 0` Borough   Borough/Citywide Off…¹ District School `School Name_x`\n",
      "          <dbl> <chr>     <chr>                     <dbl> <chr>  <chr>          \n",
      " 1            0 Manhattan Manhattan                     1 01M020 P.S. 020 Anna …\n",
      " 2            1 Manhattan Manhattan                     1 01M020 P.S. 020 Anna …\n",
      " 3            2 Manhattan Manhattan                     1 01M020 P.S. 020 Anna …\n",
      " 4            3 Manhattan Manhattan                     1 01M020 P.S. 020 Anna …\n",
      " 5            4 Manhattan Manhattan                     1 01M020 P.S. 020 Anna …\n",
      " 6            5 Manhattan Manhattan                     1 01M020 P.S. 020 Anna …\n",
      " 7            6 Manhattan Manhattan                     1 01M020 P.S. 020 Anna …\n",
      " 8            7 Manhattan Manhattan                     1 01M020 P.S. 020 Anna …\n",
      " 9            8 Manhattan Manhattan                     1 01M020 P.S. 020 Anna …\n",
      "10            9 Manhattan Manhattan                     1 01M020 P.S. 020 Anna …\n",
      "# ℹ 2,532 more rows\n",
      "# ℹ abbreviated name: ¹​`Borough/Citywide Office (B/CO)`\n",
      "# ℹ 126 more variables: `School Category` <chr>, Program <chr>, Language <chr>,\n",
      "#   `Language (Translated)` <chr>, `General/Special Education` <chr>,\n",
      "#   `Special Education Model` <chr>, fiscal_year <dbl>, system_code <chr>,\n",
      "#   location_code <chr>, location_name <chr>, BEDS <dbl>,\n",
      "#   Managed_by_name <chr>, location_type_description <chr>, …\n",
      "# ℹ Use `print(n = ...)` to see more rows, and `colnames()` to see all variable names\n"
     ]
    }
   ],
   "source": [
    "%%R\n",
    " \n",
    "# Import data with R\n",
    "df <- read_csv('combinedwithcensus.csv', show_col_types = FALSE)\n",
    "df"
   ]
  },
  {
   "cell_type": "code",
   "execution_count": 5,
   "metadata": {},
   "outputs": [
    {
     "data": {
      "text/html": [
       "<div>\n",
       "<style scoped>\n",
       "    .dataframe tbody tr th:only-of-type {\n",
       "        vertical-align: middle;\n",
       "    }\n",
       "\n",
       "    .dataframe tbody tr th {\n",
       "        vertical-align: top;\n",
       "    }\n",
       "\n",
       "    .dataframe thead th {\n",
       "        text-align: right;\n",
       "    }\n",
       "</style>\n",
       "<table border=\"1\" class=\"dataframe\">\n",
       "  <thead>\n",
       "    <tr style=\"text-align: right;\">\n",
       "      <th></th>\n",
       "      <th>Unnamed: 0</th>\n",
       "      <th>Borough</th>\n",
       "      <th>Borough/Citywide Office (B/CO)</th>\n",
       "      <th>District</th>\n",
       "      <th>School</th>\n",
       "      <th>School Name_x</th>\n",
       "      <th>School Category</th>\n",
       "      <th>Program</th>\n",
       "      <th>Language</th>\n",
       "      <th>Language (Translated)</th>\n",
       "      <th>...</th>\n",
       "      <th>NAME_y</th>\n",
       "      <th>total_estimate</th>\n",
       "      <th>white_nonhispanic_estimate</th>\n",
       "      <th>black_nonhispanic_estimate</th>\n",
       "      <th>native_nonhispanic_estimate</th>\n",
       "      <th>asian_nonhispanic_estimate</th>\n",
       "      <th>someother_nonhispanic_estimate</th>\n",
       "      <th>two_or_more_nonhispanic_estimate</th>\n",
       "      <th>hispanic_estimate</th>\n",
       "      <th>median_income_estimate</th>\n",
       "    </tr>\n",
       "  </thead>\n",
       "  <tbody>\n",
       "    <tr>\n",
       "      <th>0</th>\n",
       "      <td>0</td>\n",
       "      <td>Manhattan</td>\n",
       "      <td>Manhattan</td>\n",
       "      <td>1</td>\n",
       "      <td>01M020</td>\n",
       "      <td>P.S. 020 Anna Silver</td>\n",
       "      <td>Elementary</td>\n",
       "      <td>Dual Language</td>\n",
       "      <td>Chinese</td>\n",
       "      <td>中文</td>\n",
       "      <td>...</td>\n",
       "      <td>Census Tract 30.01, New York County, New York</td>\n",
       "      <td>3815.0</td>\n",
       "      <td>2084.0</td>\n",
       "      <td>214.0</td>\n",
       "      <td>0.0</td>\n",
       "      <td>530.0</td>\n",
       "      <td>0.0</td>\n",
       "      <td>0.0</td>\n",
       "      <td>747.0</td>\n",
       "      <td>70057.0</td>\n",
       "    </tr>\n",
       "    <tr>\n",
       "      <th>1</th>\n",
       "      <td>1</td>\n",
       "      <td>Manhattan</td>\n",
       "      <td>Manhattan</td>\n",
       "      <td>1</td>\n",
       "      <td>01M020</td>\n",
       "      <td>P.S. 020 Anna Silver</td>\n",
       "      <td>Elementary</td>\n",
       "      <td>Dual Language</td>\n",
       "      <td>Chinese</td>\n",
       "      <td>中文</td>\n",
       "      <td>...</td>\n",
       "      <td>Census Tract 30.01, New York County, New York</td>\n",
       "      <td>3815.0</td>\n",
       "      <td>2084.0</td>\n",
       "      <td>214.0</td>\n",
       "      <td>0.0</td>\n",
       "      <td>530.0</td>\n",
       "      <td>0.0</td>\n",
       "      <td>0.0</td>\n",
       "      <td>747.0</td>\n",
       "      <td>70057.0</td>\n",
       "    </tr>\n",
       "    <tr>\n",
       "      <th>2</th>\n",
       "      <td>2</td>\n",
       "      <td>Manhattan</td>\n",
       "      <td>Manhattan</td>\n",
       "      <td>1</td>\n",
       "      <td>01M020</td>\n",
       "      <td>P.S. 020 Anna Silver</td>\n",
       "      <td>Elementary</td>\n",
       "      <td>Dual Language</td>\n",
       "      <td>Chinese</td>\n",
       "      <td>中文</td>\n",
       "      <td>...</td>\n",
       "      <td>Census Tract 30.01, New York County, New York</td>\n",
       "      <td>3815.0</td>\n",
       "      <td>2084.0</td>\n",
       "      <td>214.0</td>\n",
       "      <td>0.0</td>\n",
       "      <td>530.0</td>\n",
       "      <td>0.0</td>\n",
       "      <td>0.0</td>\n",
       "      <td>747.0</td>\n",
       "      <td>70057.0</td>\n",
       "    </tr>\n",
       "    <tr>\n",
       "      <th>3</th>\n",
       "      <td>3</td>\n",
       "      <td>Manhattan</td>\n",
       "      <td>Manhattan</td>\n",
       "      <td>1</td>\n",
       "      <td>01M020</td>\n",
       "      <td>P.S. 020 Anna Silver</td>\n",
       "      <td>Elementary</td>\n",
       "      <td>Dual Language</td>\n",
       "      <td>Chinese</td>\n",
       "      <td>中文</td>\n",
       "      <td>...</td>\n",
       "      <td>Census Tract 30.01, New York County, New York</td>\n",
       "      <td>3815.0</td>\n",
       "      <td>2084.0</td>\n",
       "      <td>214.0</td>\n",
       "      <td>0.0</td>\n",
       "      <td>530.0</td>\n",
       "      <td>0.0</td>\n",
       "      <td>0.0</td>\n",
       "      <td>747.0</td>\n",
       "      <td>70057.0</td>\n",
       "    </tr>\n",
       "    <tr>\n",
       "      <th>4</th>\n",
       "      <td>4</td>\n",
       "      <td>Manhattan</td>\n",
       "      <td>Manhattan</td>\n",
       "      <td>1</td>\n",
       "      <td>01M020</td>\n",
       "      <td>P.S. 020 Anna Silver</td>\n",
       "      <td>Elementary</td>\n",
       "      <td>Dual Language</td>\n",
       "      <td>Chinese</td>\n",
       "      <td>中文</td>\n",
       "      <td>...</td>\n",
       "      <td>Census Tract 30.01, New York County, New York</td>\n",
       "      <td>3815.0</td>\n",
       "      <td>2084.0</td>\n",
       "      <td>214.0</td>\n",
       "      <td>0.0</td>\n",
       "      <td>530.0</td>\n",
       "      <td>0.0</td>\n",
       "      <td>0.0</td>\n",
       "      <td>747.0</td>\n",
       "      <td>70057.0</td>\n",
       "    </tr>\n",
       "  </tbody>\n",
       "</table>\n",
       "<p>5 rows × 132 columns</p>\n",
       "</div>"
      ],
      "text/plain": [
       "   Unnamed: 0    Borough Borough/Citywide Office (B/CO)  District  School  \\\n",
       "0           0  Manhattan                      Manhattan         1  01M020   \n",
       "1           1  Manhattan                      Manhattan         1  01M020   \n",
       "2           2  Manhattan                      Manhattan         1  01M020   \n",
       "3           3  Manhattan                      Manhattan         1  01M020   \n",
       "4           4  Manhattan                      Manhattan         1  01M020   \n",
       "\n",
       "          School Name_x School Category        Program Language  \\\n",
       "0  P.S. 020 Anna Silver      Elementary  Dual Language  Chinese   \n",
       "1  P.S. 020 Anna Silver      Elementary  Dual Language  Chinese   \n",
       "2  P.S. 020 Anna Silver      Elementary  Dual Language  Chinese   \n",
       "3  P.S. 020 Anna Silver      Elementary  Dual Language  Chinese   \n",
       "4  P.S. 020 Anna Silver      Elementary  Dual Language  Chinese   \n",
       "\n",
       "  Language (Translated)  ...                                         NAME_y  \\\n",
       "0                    中文  ...  Census Tract 30.01, New York County, New York   \n",
       "1                    中文  ...  Census Tract 30.01, New York County, New York   \n",
       "2                    中文  ...  Census Tract 30.01, New York County, New York   \n",
       "3                    中文  ...  Census Tract 30.01, New York County, New York   \n",
       "4                    中文  ...  Census Tract 30.01, New York County, New York   \n",
       "\n",
       "  total_estimate  white_nonhispanic_estimate black_nonhispanic_estimate  \\\n",
       "0         3815.0                      2084.0                      214.0   \n",
       "1         3815.0                      2084.0                      214.0   \n",
       "2         3815.0                      2084.0                      214.0   \n",
       "3         3815.0                      2084.0                      214.0   \n",
       "4         3815.0                      2084.0                      214.0   \n",
       "\n",
       "  native_nonhispanic_estimate asian_nonhispanic_estimate  \\\n",
       "0                         0.0                      530.0   \n",
       "1                         0.0                      530.0   \n",
       "2                         0.0                      530.0   \n",
       "3                         0.0                      530.0   \n",
       "4                         0.0                      530.0   \n",
       "\n",
       "   someother_nonhispanic_estimate two_or_more_nonhispanic_estimate  \\\n",
       "0                             0.0                              0.0   \n",
       "1                             0.0                              0.0   \n",
       "2                             0.0                              0.0   \n",
       "3                             0.0                              0.0   \n",
       "4                             0.0                              0.0   \n",
       "\n",
       "  hispanic_estimate median_income_estimate  \n",
       "0             747.0                70057.0  \n",
       "1             747.0                70057.0  \n",
       "2             747.0                70057.0  \n",
       "3             747.0                70057.0  \n",
       "4             747.0                70057.0  \n",
       "\n",
       "[5 rows x 132 columns]"
      ]
     },
     "execution_count": 5,
     "metadata": {},
     "output_type": "execute_result"
    }
   ],
   "source": [
    "# Import data in python\n",
    "mtcars = pd.read_csv('combinedwithcensus.csv')\n",
    "mtcars.head()"
   ]
  },
  {
   "attachments": {},
   "cell_type": "markdown",
   "metadata": {},
   "source": [
    "# Exploratory data analysis\n",
    "\n"
   ]
  },
  {
   "attachments": {},
   "cell_type": "markdown",
   "metadata": {},
   "source": [
    "## 2-D visualizations (aka scatter plots)\n",
    "\n",
    "It seems simple. It's not simple. mainly because...\n",
    "\n",
    "**CORRELATION =/= CAUSATION**\n",
    "\n",
    "Comparing variables to one another can be TRICKY!\n",
    "\n",
    "Let's make some 2-D visualizations (aka scatter plots).\n",
    "\n",
    "Be VERY careful how you phrase the headlines. Take time to think through what you want to say.\n",
    "\n",
    "\n"
   ]
  },
  {
   "cell_type": "code",
   "execution_count": 6,
   "metadata": {},
   "outputs": [
    {
     "name": "stderr",
     "output_type": "stream",
     "text": [
      "R[write to console]: In addition: \n",
      "R[write to console]: Warning message:\n",
      "\n",
      "R[write to console]: Removed 35 rows containing missing values (`geom_point()`). \n",
      "\n"
     ]
    },
    {
     "data": {
      "image/png": "[encoded data removed]",
      "text/plain": [
       "<IPython.core.display.Image object>"
      ]
     },
     "metadata": {},
     "output_type": "display_data"
    }
   ],
   "source": [
    "%%R -w 1000 -h 1000\n",
    "\n",
    "library(ggplot2)\n",
    "\n",
    "ggplot(df, aes(x = median_income_estimate, y = Program)) +\n",
    "    geom_point() +\n",
    "    labs(x = \"Median Income Estimate\", y = \"Number of Programs\", subtitle = \" Transitional bilingual schools are in lower-income communities\") +\n",
    "    ggtitle(\"Dual language schools are in higher-income communities\")"
   ]
  },
  {
   "cell_type": "code",
   "execution_count": 7,
   "metadata": {},
   "outputs": [
    {
     "name": "stdout",
     "output_type": "stream",
     "text": [
      "\n",
      "\tWelch Two Sample t-test\n",
      "\n",
      "data:  median_income_estimate by Program\n",
      "t = 9.7996, df = 2347.8, p-value < 2.2e-16\n",
      "alternative hypothesis: true difference in means between group Dual Language and group Transitional Bilingual Education is not equal to 0\n",
      "95 percent confidence interval:\n",
      "  7595.102 11395.189\n",
      "sample estimates:\n",
      "                   mean in group Dual Language \n",
      "                                      57352.78 \n",
      "mean in group Transitional Bilingual Education \n",
      "                                      47857.64 \n",
      "\n"
     ]
    }
   ],
   "source": [
    "%%R -o df\n",
    "\n",
    " #perform the t test with Program\n",
    "t.test(median_income_estimate ~ Program, data = df)\n"
   ]
  },
  {
   "cell_type": "code",
   "execution_count": 8,
   "metadata": {},
   "outputs": [
    {
     "name": "stdout",
     "output_type": "stream",
     "text": [
      "NULL\n"
     ]
    }
   ],
   "source": [
    "%%R\n",
    "\n",
    "# code for scatter plot 3\n",
    "# be sure to include a meaningful title and subtitle\n",
    "#transitional schools vs hispanic population \n",
    "#y-median_income_estimate\n",
    "#x-hispanic_population\n",
    "#color dots by program\n",
    "#filter schools with spanish language only"
   ]
  },
  {
   "cell_type": "code",
   "execution_count": null,
   "metadata": {},
   "outputs": [],
   "source": [
    "#hispanic population in the school vs the census track"
   ]
  },
  {
   "cell_type": "markdown",
   "metadata": {},
   "source": [
    "#map on ggplot census with the lagitude and longitude for median_income_estimate, = Program"
   ]
  }
 ],
 "metadata": {
  "kernelspec": {
   "display_name": "Python 3",
   "language": "python",
   "name": "python3"
  },
  "language_info": {
   "codemirror_mode": {
    "name": "ipython",
    "version": 3
   },
   "file_extension": ".py",
   "mimetype": "text/x-python",
   "name": "python",
   "nbconvert_exporter": "python",
   "pygments_lexer": "ipython3",
   "version": "3.11.6"
  },
  "vscode": {
   "interpreter": {
    "hash": "34166945ca6cc351f9d38b360afe1a928411c84fd696a9e2d08d61ef3f7e4692"
   }
  }
 },
 "nbformat": 4,
 "nbformat_minor": 2
}
